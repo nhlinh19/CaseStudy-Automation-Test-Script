{
 "cells": [
  {
   "cell_type": "code",
   "execution_count": 9,
   "metadata": {},
   "outputs": [],
   "source": [
    "from selenium import webdriver\n",
    "from selenium.webdriver.common.keys import Keys\n",
    "from selenium.webdriver.common.by import By\n",
    "from selenium.webdriver.support.wait import WebDriverWait\n",
    "from selenium.webdriver.support import expected_conditions as EC\n",
    "import os\n",
    "from enum import Enum\n",
    "import time\n",
    "import json\n",
    "import pandas as pd\n",
    "\n",
    "class WebDriver(Enum):\n",
    "    Chrome = 1\n",
    "    Edge = 2\n",
    "    IE = 3\n",
    "\n",
    "class OrangeHRMWebDriver:\n",
    "    def __init__(self, webDriver):\n",
    "        if webDriver == WebDriver.Chrome:\n",
    "            self.driver = webdriver.Chrome(os.getenv(\"ChromeWebDriver\"))\n",
    "        elif webDriver == WebDriver.Edge:\n",
    "            self.driver = webdriver.Edge(os.getenv(\"EdgeWebDriver\"))\n",
    "        else:\n",
    "            self.driver = webdriver.Ie(os.getenv(\"IEWebDriver\"))\n",
    "        self.driver.get(\"http://localhost\")\n",
    "        self.TIMEOUT = 3\n",
    "        with open(\"XPATH.json\", \"r\") as f:\n",
    "            self.xpath = json.load(f)\n",
    "        self.addUserTestCases = pd.read_csv(\"Testcases/AddUserTestCases.csv\", encoding=\"utf-8\").to_dict(orient='records')\n",
    "\n",
    "    def AdminLogin(self):\n",
    "        username = WebDriverWait(self.driver, self.TIMEOUT).until(\n",
    "            EC.presence_of_element_located((By.NAME, \"username\"))\n",
    "        )\n",
    "        password = WebDriverWait(self.driver, self.TIMEOUT).until(\n",
    "            EC.presence_of_element_located((By.NAME, \"password\"))\n",
    "        )\n",
    "        username.send_keys(\"admin\")\n",
    "        password.send_keys(\"Admin@123456\")\n",
    "        loginButton = WebDriverWait(self.driver, self.TIMEOUT).until(\n",
    "            EC.presence_of_element_located(\n",
    "                (By.XPATH, \"//button[text()=' Login ']\"))\n",
    "        )\n",
    "        loginButton.click()\n",
    "\n",
    "    def AdminAddUser(self, testcase):\n",
    "        time.sleep(self.TIMEOUT)\n",
    "        self.driver.get(self.xpath[\"AdminAddUserPage\"]['Path'])\n",
    "        saveButton = WebDriverWait(self.driver, self.TIMEOUT).until(\n",
    "            EC.presence_of_element_located(\n",
    "                (By.XPATH, self.xpath[\"AdminAddUserPage\"]['SaveButton']))\n",
    "        )\n",
    "\n",
    "        if not pd.isna(testcase['UserRole']):\n",
    "            self.driver.find_element(By.XPATH, self.xpath[\"AdminAddUserPage\"]['UserRoleArrow']).click()\n",
    "            self.driver.find_element(By.XPATH, self.xpath[\"AdminAddUserPage\"]['UserRole' + testcase['UserRole']]).click()\n",
    "        if not pd.isna(testcase['Status']):\n",
    "            self.driver.find_element(By.XPATH, self.xpath[\"AdminAddUserPage\"]['StatusArrow']).click()\n",
    "            self.driver.find_element(By.XPATH, self.xpath[\"AdminAddUserPage\"]['Status' + testcase['Status']]).click() \n",
    "        if not pd.isna(testcase['EmployeeName']):\n",
    "            self.driver.find_element(By.XPATH, self.xpath[\"AdminAddUserPage\"]['EmployeeName']).send_keys(testcase[\"EmployeeName\"]) \n",
    "            time.sleep(self.TIMEOUT)\n",
    "            WebDriverWait(self.driver, self.TIMEOUT).until(\n",
    "                EC.presence_of_element_located(\n",
    "                    (By.XPATH, self.xpath[\"AdminAddUserPage\"]['EmployeeNameSearch']))\n",
    "            ).click()\n",
    "        self.driver.find_element(By.XPATH, self.xpath[\"AdminAddUserPage\"]['Username']).send_keys(testcase[\"Username\"]) if not pd.isna(testcase['Username']) else None\n",
    "        self.driver.find_element(By.XPATH, self.xpath[\"AdminAddUserPage\"]['Password']).send_keys(testcase[\"Password\"]) if not pd.isna(testcase['Password']) else None\n",
    "        self.driver.find_element(By.XPATH, self.xpath[\"AdminAddUserPage\"]['ConfirmPassword']).send_keys(testcase[\"ConfirmPassword\"]) if not pd.isna(testcase['ConfirmPassword']) else None\n",
    "        \n",
    "        time.sleep(self.TIMEOUT)\n",
    "        saveButton.click()\n",
    "\n",
    "        if testcase['Field'] == 'All':\n",
    "            try:\n",
    "                WebDriverWait(self.driver, self.TIMEOUT).until(\n",
    "                    EC.presence_of_element_located(\n",
    "                        (By.XPATH, self.xpath[\"AdminAddUserPage\"]['SuccessNotification']))\n",
    "                )\n",
    "            except:\n",
    "                print(f'Test case {testcase[\"No.\"]}: {\"Success\" if not testcase[\"ExpectedResult\"] else \"Fail\"}')\n",
    "                return\n",
    "            print(f'Test case {testcase[\"No.\"]}: {\"Success\" if testcase[\"ExpectedResult\"] else \"Fail\"}')\n",
    "        else:\n",
    "            try:\n",
    "                WebDriverWait(self.driver, self.TIMEOUT).until(\n",
    "                    EC.presence_of_element_located(\n",
    "                        (By.XPATH, self.xpath[\"AdminAddUserPage\"]['Invalid' + testcase['Field']]))\n",
    "                )\n",
    "            except:\n",
    "                print(f'Test case {testcase[\"No.\"]}: {\"Success\" if testcase[\"ExpectedResult\"] else \"Fail\"}')\n",
    "                return\n",
    "            print(f'Test case {testcase[\"No.\"]}: {\"Success\" if not testcase[\"ExpectedResult\"] else \"Fail\"}')\n",
    "\n",
    "    def RunAdminAddUser(self):\n",
    "        print(\"AdminAddUser test:\")\n",
    "        for testcase in self.addUserTestCases:\n",
    "            self.AdminAddUser(testcase)\n",
    "    \n",
    "    def Quit(self):\n",
    "        self.driver.quit()\n"
   ]
  },
  {
   "cell_type": "code",
   "execution_count": 10,
   "metadata": {},
   "outputs": [
    {
     "name": "stderr",
     "output_type": "stream",
     "text": [
      "C:\\Users\\maidu\\AppData\\Local\\Temp\\ipykernel_3084\\3514499476.py:20: DeprecationWarning: executable_path has been deprecated, please pass in a Service object\n",
      "  self.driver = webdriver.Chrome(os.getenv(\"ChromeWebDriver\"))\n"
     ]
    },
    {
     "name": "stdout",
     "output_type": "stream",
     "text": [
      "AdminAddUser test:\n",
      "Test case 1: Success\n",
      "Test case 2: Success\n",
      "Test case 3: Success\n"
     ]
    },
    {
     "ename": "KeyboardInterrupt",
     "evalue": "",
     "output_type": "error",
     "traceback": [
      "\u001b[1;31m---------------------------------------------------------------------------\u001b[0m",
      "\u001b[1;31mKeyboardInterrupt\u001b[0m                         Traceback (most recent call last)",
      "Cell \u001b[1;32mIn [10], line 3\u001b[0m\n\u001b[0;32m      1\u001b[0m chromeDriver \u001b[39m=\u001b[39m OrangeHRMWebDriver(WebDriver\u001b[39m.\u001b[39mChrome)\n\u001b[0;32m      2\u001b[0m chromeDriver\u001b[39m.\u001b[39mAdminLogin()\n\u001b[1;32m----> 3\u001b[0m chromeDriver\u001b[39m.\u001b[39;49mRunAdminAddUser()\n\u001b[0;32m      4\u001b[0m chromeDriver\u001b[39m.\u001b[39mQuit()\n",
      "Cell \u001b[1;32mIn [9], line 98\u001b[0m, in \u001b[0;36mOrangeHRMWebDriver.RunAdminAddUser\u001b[1;34m(self)\u001b[0m\n\u001b[0;32m     96\u001b[0m \u001b[39mprint\u001b[39m(\u001b[39m\"\u001b[39m\u001b[39mAdminAddUser test:\u001b[39m\u001b[39m\"\u001b[39m)\n\u001b[0;32m     97\u001b[0m \u001b[39mfor\u001b[39;00m testcase \u001b[39min\u001b[39;00m \u001b[39mself\u001b[39m\u001b[39m.\u001b[39maddUserTestCases:\n\u001b[1;32m---> 98\u001b[0m     \u001b[39mself\u001b[39;49m\u001b[39m.\u001b[39;49mAdminAddUser(testcase)\n",
      "Cell \u001b[1;32mIn [9], line 47\u001b[0m, in \u001b[0;36mOrangeHRMWebDriver.AdminAddUser\u001b[1;34m(self, testcase)\u001b[0m\n\u001b[0;32m     46\u001b[0m \u001b[39mdef\u001b[39;00m \u001b[39mAdminAddUser\u001b[39m(\u001b[39mself\u001b[39m, testcase):\n\u001b[1;32m---> 47\u001b[0m     time\u001b[39m.\u001b[39;49msleep(\u001b[39mself\u001b[39;49m\u001b[39m.\u001b[39;49mTIMEOUT)\n\u001b[0;32m     48\u001b[0m     \u001b[39mself\u001b[39m\u001b[39m.\u001b[39mdriver\u001b[39m.\u001b[39mget(\u001b[39mself\u001b[39m\u001b[39m.\u001b[39mxpath[\u001b[39m\"\u001b[39m\u001b[39mAdminAddUserPage\u001b[39m\u001b[39m\"\u001b[39m][\u001b[39m'\u001b[39m\u001b[39mPath\u001b[39m\u001b[39m'\u001b[39m])\n\u001b[0;32m     49\u001b[0m     saveButton \u001b[39m=\u001b[39m WebDriverWait(\u001b[39mself\u001b[39m\u001b[39m.\u001b[39mdriver, \u001b[39mself\u001b[39m\u001b[39m.\u001b[39mTIMEOUT)\u001b[39m.\u001b[39muntil(\n\u001b[0;32m     50\u001b[0m         EC\u001b[39m.\u001b[39mpresence_of_element_located(\n\u001b[0;32m     51\u001b[0m             (By\u001b[39m.\u001b[39mXPATH, \u001b[39mself\u001b[39m\u001b[39m.\u001b[39mxpath[\u001b[39m\"\u001b[39m\u001b[39mAdminAddUserPage\u001b[39m\u001b[39m\"\u001b[39m][\u001b[39m'\u001b[39m\u001b[39mSaveButton\u001b[39m\u001b[39m'\u001b[39m]))\n\u001b[0;32m     52\u001b[0m     )\n",
      "\u001b[1;31mKeyboardInterrupt\u001b[0m: "
     ]
    }
   ],
   "source": [
    "chromeDriver = OrangeHRMWebDriver(WebDriver.Chrome)\n",
    "chromeDriver.AdminLogin()\n",
    "chromeDriver.RunAdminAddUser()\n",
    "chromeDriver.Quit()"
   ]
  }
 ],
 "metadata": {
  "kernelspec": {
   "display_name": "testing",
   "language": "python",
   "name": "python3"
  },
  "language_info": {
   "codemirror_mode": {
    "name": "ipython",
    "version": 3
   },
   "file_extension": ".py",
   "mimetype": "text/x-python",
   "name": "python",
   "nbconvert_exporter": "python",
   "pygments_lexer": "ipython3",
   "version": "3.9.15"
  },
  "orig_nbformat": 4,
  "vscode": {
   "interpreter": {
    "hash": "889671667115e3b726434d9ae359271557b00901526eea6a7387b0d5d12a3184"
   }
  }
 },
 "nbformat": 4,
 "nbformat_minor": 2
}
