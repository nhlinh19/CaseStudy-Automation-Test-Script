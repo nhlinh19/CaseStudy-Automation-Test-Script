{
 "cells": [
  {
   "cell_type": "code",
   "execution_count": 1,
   "metadata": {},
   "outputs": [],
   "source": [
    "with open('data.csv', \"w\") as f:\n",
    "    for iter in range(1, 1001):\n",
    "        username = \"test\" + str(iter)\n",
    "        password = \"P@ssw0rd\"\n",
    "        f.write(username + ',' + password + \"\\n\")"
   ]
  }
 ],
 "metadata": {
  "kernelspec": {
   "display_name": "Python 3",
   "language": "python",
   "name": "python3"
  },
  "language_info": {
   "codemirror_mode": {
    "name": "ipython",
    "version": 3
   },
   "file_extension": ".py",
   "mimetype": "text/x-python",
   "name": "python",
   "nbconvert_exporter": "python",
   "pygments_lexer": "ipython3",
   "version": "3.10.3"
  },
  "orig_nbformat": 4,
  "vscode": {
   "interpreter": {
    "hash": "6d263d2f254ee4b136c62ecc35cfa1a48060760ec2267a5c1f8171c36f0713e6"
   }
  }
 },
 "nbformat": 4,
 "nbformat_minor": 2
}
